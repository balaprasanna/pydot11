{
 "cells": [
  {
   "cell_type": "code",
   "execution_count": 11,
   "metadata": {},
   "outputs": [
    {
     "name": "stdout",
     "output_type": "stream",
     "text": [
      "{'pocket': ['seashell', 'strange berry', 'lint'], 'backpack': ['xylophone', 'dagger', 'bedroll', 'bread loaf'], 'pouch': ['flint', 'twine', 'gemstone'], 'gold': 500}\n",
      "{'pocket': ['seashell', 'strange berry', 'lint'], 'backpack': ['bedroll', 'bread loaf', 'dagger', 'xylophone'], 'pouch': ['flint', 'twine', 'gemstone'], 'gold': 500}\n",
      "{'pocket': ['seashell', 'strange berry', 'lint'], 'backpack': ['bedroll', 'bread loaf', 'xylophone'], 'pouch': ['flint', 'twine', 'gemstone'], 'gold': 500}\n",
      "{'pocket': ['seashell', 'strange berry', 'lint'], 'backpack': ['bedroll', 'bread loaf', 'xylophone'], 'pouch': ['flint', 'twine', 'gemstone'], 'gold': 550}\n"
     ]
    }
   ],
   "source": [
    "inventory = {\n",
    "    'gold' : 500,\n",
    "    'pouch' : ['flint', 'twine', 'gemstone'],\n",
    "    'backpack' : ['xylophone','dagger', 'bedroll','bread loaf']\n",
    "}\n",
    "\n",
    "# Add a key to inventory called 'pocket'.\n",
    "# Set the value of 'pocket' to be a list consisting of the strings 'seashell', 'strange berry', and 'lint'.\n",
    "inventory['pocket'] = ['seashell', 'strange berry', 'lint']\n",
    "print inventory\n",
    "\n",
    "# .sort()the items in the list stored under the 'backpack' key.\n",
    "inventory['backpack'].sort()\n",
    "print inventory\n",
    "\n",
    "# Then .remove('dagger') from the list of items stored under the 'backpack' key.\n",
    "inventory['backpack'].remove('dagger')\n",
    "print inventory\n",
    "\n",
    "# Add 50 to the number stored under the 'gold' key.\n",
    "inventory['gold']+=50 # inventory['gold'] = inventory['gold'] + 50\n",
    "print inventory\n"
   ]
  },
  {
   "cell_type": "code",
   "execution_count": 13,
   "metadata": {},
   "outputs": [
    {
     "name": "stdout",
     "output_type": "stream",
     "text": [
      "{'orange': 1.5, 'pear': 3, 'banana': 4, 'apple': 2}\n"
     ]
    }
   ],
   "source": [
    "# Exercise # 2\n",
    "\n",
    "# Folow the steps bellow: \n",
    "# -Create a new dictionary called prices using {} format\n",
    "# Put these values in your prices dictionary:\n",
    "prices = {\n",
    "    'banana':4,\n",
    "    'apple':2,\n",
    "    'orange':1.5,\n",
    "    'pear':3\n",
    "}\n",
    "print prices\n",
    "# \"banana\": 4,\n",
    "# \"apple\": 2,\n",
    "# \"orange\": 1.5,\n",
    "# \"pear\": 3\n",
    "\n"
   ]
  },
  {
   "cell_type": "code",
   "execution_count": 39,
   "metadata": {},
   "outputs": [
    {
     "name": "stdout",
     "output_type": "stream",
     "text": [
      "<built-in method keys of dict object at 0x7f3fbc75c398>\n"
     ]
    }
   ],
   "source": [
    "# Loop through each key in prices. For each key, print out the key along with its price and stock information.\n",
    "# Print the answer in the following format:\n",
    "# apple\n",
    "# price: 2\n",
    "# stock: 0\n",
    "print prices.keys\n",
    "\n",
    "# for item in prices.keys():\n",
    "#     price = prices[item]\n",
    "#     print item\n",
    "#     print 'price: ' + str(price)\n",
    "#     print 'stock: 0'"
   ]
  },
  {
   "cell_type": "code",
   "execution_count": 27,
   "metadata": {},
   "outputs": [
    {
     "name": "stdout",
     "output_type": "stream",
     "text": [
      "['orange', 'pear', 'banana', 'apple']\n",
      "[('orange', 1.5), ('pear', 3), ('banana', 4), ('apple', 2)]\n",
      "[1.5, 3, 4, 2]\n"
     ]
    }
   ],
   "source": [
    "print prices.keys()\n",
    "print prices.items()\n",
    "print prices.values()\n",
    "# for item in prices:\n",
    "#     print item\n"
   ]
  },
  {
   "cell_type": "code",
   "execution_count": 36,
   "metadata": {},
   "outputs": [
    {
     "name": "stdout",
     "output_type": "stream",
     "text": [
      "117.0\n"
     ]
    }
   ],
   "source": [
    "# Let's determine how much money you would make if you sold all of your food.\n",
    "\n",
    "# Create a variable called total and set it to zero.\n",
    "# Loop through the prices dictionaries.For each key in prices,\n",
    "# multiply the number in prices by the number in stock. Print that value into the console and then add it to total.\n",
    "# Finally, outside your loop, print total.\n",
    "\n",
    "stock = {\n",
    "    \"banana\": 6,\n",
    "    \"apple\": 0,\n",
    "    \"orange\": 32,\n",
    "    \"pear\": 15\n",
    "}\n",
    "\n",
    "prices = {\n",
    "    'banana':4,\n",
    "    'apple':2,\n",
    "    'orange':1.5,\n",
    "    'pear':3\n",
    "}\n",
    "total = 0\n",
    "\n",
    "for key in prices:\n",
    "    total += prices[key]* stock[key]\n",
    "print total\n",
    "        \n",
    "        "
   ]
  },
  {
   "cell_type": "code",
   "execution_count": 38,
   "metadata": {},
   "outputs": [
    {
     "data": {
      "text/plain": [
       "['__class__',\n",
       " '__cmp__',\n",
       " '__contains__',\n",
       " '__delattr__',\n",
       " '__delitem__',\n",
       " '__doc__',\n",
       " '__eq__',\n",
       " '__format__',\n",
       " '__ge__',\n",
       " '__getattribute__',\n",
       " '__getitem__',\n",
       " '__gt__',\n",
       " '__hash__',\n",
       " '__init__',\n",
       " '__iter__',\n",
       " '__le__',\n",
       " '__len__',\n",
       " '__lt__',\n",
       " '__ne__',\n",
       " '__new__',\n",
       " '__reduce__',\n",
       " '__reduce_ex__',\n",
       " '__repr__',\n",
       " '__setattr__',\n",
       " '__setitem__',\n",
       " '__sizeof__',\n",
       " '__str__',\n",
       " '__subclasshook__',\n",
       " 'clear',\n",
       " 'copy',\n",
       " 'fromkeys',\n",
       " 'get',\n",
       " 'has_key',\n",
       " 'items',\n",
       " 'iteritems',\n",
       " 'iterkeys',\n",
       " 'itervalues',\n",
       " 'keys',\n",
       " 'pop',\n",
       " 'popitem',\n",
       " 'setdefault',\n",
       " 'update',\n",
       " 'values',\n",
       " 'viewitems',\n",
       " 'viewkeys',\n",
       " 'viewvalues']"
      ]
     },
     "execution_count": 38,
     "metadata": {},
     "output_type": "execute_result"
    }
   ],
   "source": [
    "dir(prices)"
   ]
  },
  {
   "cell_type": "code",
   "execution_count": null,
   "metadata": {
    "collapsed": true
   },
   "outputs": [],
   "source": []
  }
 ],
 "metadata": {
  "kernelspec": {
   "display_name": "Python 3",
   "language": "python",
   "name": "python3"
  },
  "language_info": {
   "codemirror_mode": {
    "name": "ipython",
    "version": 3
   },
   "file_extension": ".py",
   "mimetype": "text/x-python",
   "name": "python",
   "nbconvert_exporter": "python",
   "pygments_lexer": "ipython3",
   "version": "3.6.4"
  }
 },
 "nbformat": 4,
 "nbformat_minor": 2
}
