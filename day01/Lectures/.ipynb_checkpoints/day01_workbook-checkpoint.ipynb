{
 "cells": [
  {
   "cell_type": "code",
   "execution_count": 2,
   "metadata": {},
   "outputs": [],
   "source": [
    "a=10"
   ]
  },
  {
   "cell_type": "code",
   "execution_count": 3,
   "metadata": {},
   "outputs": [
    {
     "name": "stdout",
     "output_type": "stream",
     "text": [
      "10\n"
     ]
    }
   ],
   "source": [
    "print (a)"
   ]
  },
  {
   "cell_type": "code",
   "execution_count": null,
   "metadata": {},
   "outputs": [],
   "source": []
  },
  {
   "cell_type": "code",
   "execution_count": null,
   "metadata": {},
   "outputs": [],
   "source": [
    "print (\"hello\")\n",
    "\n",
    "\n",
    "print (10)\n",
    "\n",
    "\n",
    "print (10, 20)\n",
    "\n",
    "\n",
    "print (True)\n",
    "print (False)\n",
    "\n",
    "\n",
    "print (\"Age is \", 18)\n",
    "\n",
    "print (3.14)"
   ]
  },
  {
   "cell_type": "code",
   "execution_count": null,
   "metadata": {},
   "outputs": [],
   "source": [
    "# \"hello\" > str\n",
    "# 10  int\n",
    "# True bool\n",
    "# 3.14 float\n",
    "\n",
    "# [] list\n",
    "\n",
    "# () tuple\n",
    "\n",
    "# {} dict\n",
    "\n",
    "VALUE"
   ]
  },
  {
   "cell_type": "code",
   "execution_count": null,
   "metadata": {},
   "outputs": [],
   "source": []
  },
  {
   "cell_type": "code",
   "execution_count": null,
   "metadata": {},
   "outputs": [],
   "source": [
    "# VARIABLE\n",
    "\n",
    "\n",
    "name_of_the_variable = VALUE\n",
    "\n",
    "\n",
    "\n",
    "\n",
    "name = \"TOM\"\n",
    "age = 19\n",
    "sex = \"M\"\n",
    "height = 4.5\n",
    "is_living = True\n",
    "\n",
    "# marks = [90,80,80]\n",
    "# subjects = [\"Math\", \"Eng\", \"Sci\"]\n",
    "\n",
    "# student_dct = {\n",
    "#     \"marks\" : [90,80,80],\n",
    "#     \"subjects\" : [\"Math\", \"Eng\", \"Sci\"],\n",
    "#     \"address\": {\n",
    "#         \"street\": \"...\",\n",
    "#         \"pincode\": 678778\n",
    "#     }\n",
    "# }"
   ]
  },
  {
   "cell_type": "code",
   "execution_count": null,
   "metadata": {},
   "outputs": [],
   "source": []
  },
  {
   "cell_type": "code",
   "execution_count": 11,
   "metadata": {},
   "outputs": [
    {
     "data": {
      "text/plain": [
       "bool"
      ]
     },
     "execution_count": 11,
     "metadata": {},
     "output_type": "execute_result"
    }
   ],
   "source": [
    "name = \"TOM\"\n",
    "\n",
    "# type( \"TOM\"  )\n",
    "\n",
    "age = 19\n",
    "type(age)\n",
    "sex = \"M\"\n",
    "type(sex)\n",
    "height = 4.5\n",
    "type(height)\n",
    "is_living = True\n",
    "type(is_living)"
   ]
  },
  {
   "cell_type": "code",
   "execution_count": 15,
   "metadata": {},
   "outputs": [
    {
     "name": "stdout",
     "output_type": "stream",
     "text": [
      "<class 'str'>\n",
      "20\n",
      "<class 'int'>\n"
     ]
    }
   ],
   "source": [
    "age = \"19\" \n",
    "print (type(age))\n",
    "\n",
    "\n",
    "# target_type_to_convert ( value_to_convert )\n",
    "\n",
    "\n",
    "age_int  = int ( age  )\n",
    "\n",
    "print (age_int + 1)\n",
    "print(type(age_int))\n"
   ]
  },
  {
   "cell_type": "code",
   "execution_count": 16,
   "metadata": {},
   "outputs": [
    {
     "name": "stdout",
     "output_type": "stream",
     "text": [
      "Enter your age : 19\n",
      "19\n"
     ]
    }
   ],
   "source": [
    "age  = input(\"Enter your age : \")\n",
    "\n",
    "print (age)"
   ]
  },
  {
   "cell_type": "code",
   "execution_count": null,
   "metadata": {},
   "outputs": [],
   "source": []
  },
  {
   "cell_type": "code",
   "execution_count": null,
   "metadata": {},
   "outputs": [],
   "source": [
    "# Operators"
   ]
  },
  {
   "cell_type": "code",
   "execution_count": null,
   "metadata": {},
   "outputs": [],
   "source": [
    "+\n",
    "-\n",
    "*\n",
    "/\n",
    "%"
   ]
  },
  {
   "cell_type": "code",
   "execution_count": 19,
   "metadata": {},
   "outputs": [
    {
     "name": "stdout",
     "output_type": "stream",
     "text": [
      "Enter input 110\n",
      "Enter input 220\n",
      "30\n",
      "Add: 10 + 20 = 30\n",
      "-10\n",
      "200\n",
      "0.5\n"
     ]
    }
   ],
   "source": [
    "num1 = input(\"Enter input 1\")\n",
    "num2 = input(\"Enter input 2\")\n",
    "\n",
    "\n",
    "num1 = int(num1)\n",
    "num2 = int(num2)\n",
    "\n",
    "print (num1 + num2)\n",
    "\n",
    "\n",
    "print (\"Add: \" + str(num1) + \" + \" + str(num2) + \" = \" + str(num1+num2)\n",
    "\n",
    "print (\"Add: %s + %s = %s\" % (num1, num2 , num1+num2))\n",
    "\n",
    "print (\"Add: {} + {} = {}\".format (num1, num2 , num1+num2))\n",
    "\n",
    "print (\"Add: {0} + {1} = {2}\".format (num1, num2 , num1+num2))\n",
    "\n",
    "print (num1 - num2)\n",
    "\n",
    "print (num1 * num2)\n",
    "\n",
    "print (num1 / num2)"
   ]
  },
  {
   "cell_type": "code",
   "execution_count": 21,
   "metadata": {},
   "outputs": [
    {
     "data": {
      "text/plain": [
       "'hihello'"
      ]
     },
     "execution_count": 21,
     "metadata": {},
     "output_type": "execute_result"
    }
   ],
   "source": [
    "\"hi\" + \"hello\""
   ]
  },
  {
   "cell_type": "code",
   "execution_count": null,
   "metadata": {},
   "outputs": [],
   "source": []
  }
 ],
 "metadata": {
  "kernelspec": {
   "display_name": "Python 3",
   "language": "python",
   "name": "python3"
  },
  "language_info": {
   "codemirror_mode": {
    "name": "ipython",
    "version": 3
   },
   "file_extension": ".py",
   "mimetype": "text/x-python",
   "name": "python",
   "nbconvert_exporter": "python",
   "pygments_lexer": "ipython3",
   "version": "3.6.4"
  }
 },
 "nbformat": 4,
 "nbformat_minor": 2
}
